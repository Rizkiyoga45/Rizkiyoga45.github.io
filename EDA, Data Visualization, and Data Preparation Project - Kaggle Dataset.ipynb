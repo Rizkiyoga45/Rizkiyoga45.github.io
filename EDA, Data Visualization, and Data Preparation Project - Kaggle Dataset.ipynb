{
 "cells": [
  {
   "cell_type": "code",
   "execution_count": 1,
   "metadata": {},
   "outputs": [],
   "source": [
    "import pandas as pd\n",
    "import numpy as np\n",
    "import matplotlib.pyplot as plt\n",
    "import seaborn as sns"
   ]
  },
  {
   "cell_type": "markdown",
   "metadata": {},
   "source": [
    "# <b>Introduction</b>\n",
    "*  project dataset: open dataset\n",
    "*  source: <a> href=\"https://www.kaggle.com/ahmettezcantekin/beginner-datasets \"</a>\n",
    "*  Objectives: Explore the data (EDA), visualize the data, identify and gain new useful feature variable, prepare and clean the data li\n",
    "*  analysis will be explained in bahasa\n",
    "\n",
    "<b>*Created by: Rizki Yoga Marsyamni*</b>\n",
    "\n",
    "\n"
   ]
  },
  {
   "cell_type": "markdown",
   "metadata": {},
   "source": [
    "## Load The dataset: \"Insurance\":"
   ]
  },
  {
   "cell_type": "code",
   "execution_count": 2,
   "metadata": {},
   "outputs": [
    {
     "data": {
      "text/html": [
       "<div>\n",
       "<style scoped>\n",
       "    .dataframe tbody tr th:only-of-type {\n",
       "        vertical-align: middle;\n",
       "    }\n",
       "\n",
       "    .dataframe tbody tr th {\n",
       "        vertical-align: top;\n",
       "    }\n",
       "\n",
       "    .dataframe thead th {\n",
       "        text-align: right;\n",
       "    }\n",
       "</style>\n",
       "<table border=\"1\" class=\"dataframe\">\n",
       "  <thead>\n",
       "    <tr style=\"text-align: right;\">\n",
       "      <th></th>\n",
       "      <th>age</th>\n",
       "      <th>sex</th>\n",
       "      <th>bmi</th>\n",
       "      <th>children</th>\n",
       "      <th>smoker</th>\n",
       "      <th>region</th>\n",
       "      <th>charges</th>\n",
       "    </tr>\n",
       "  </thead>\n",
       "  <tbody>\n",
       "    <tr>\n",
       "      <th>0</th>\n",
       "      <td>19</td>\n",
       "      <td>female</td>\n",
       "      <td>27.900</td>\n",
       "      <td>0</td>\n",
       "      <td>yes</td>\n",
       "      <td>southwest</td>\n",
       "      <td>16884.92400</td>\n",
       "    </tr>\n",
       "    <tr>\n",
       "      <th>1</th>\n",
       "      <td>18</td>\n",
       "      <td>male</td>\n",
       "      <td>33.770</td>\n",
       "      <td>1</td>\n",
       "      <td>no</td>\n",
       "      <td>southeast</td>\n",
       "      <td>1725.55230</td>\n",
       "    </tr>\n",
       "    <tr>\n",
       "      <th>2</th>\n",
       "      <td>28</td>\n",
       "      <td>male</td>\n",
       "      <td>33.000</td>\n",
       "      <td>3</td>\n",
       "      <td>no</td>\n",
       "      <td>southeast</td>\n",
       "      <td>4449.46200</td>\n",
       "    </tr>\n",
       "    <tr>\n",
       "      <th>3</th>\n",
       "      <td>33</td>\n",
       "      <td>male</td>\n",
       "      <td>22.705</td>\n",
       "      <td>0</td>\n",
       "      <td>no</td>\n",
       "      <td>northwest</td>\n",
       "      <td>21984.47061</td>\n",
       "    </tr>\n",
       "    <tr>\n",
       "      <th>4</th>\n",
       "      <td>32</td>\n",
       "      <td>male</td>\n",
       "      <td>28.880</td>\n",
       "      <td>0</td>\n",
       "      <td>no</td>\n",
       "      <td>northwest</td>\n",
       "      <td>3866.85520</td>\n",
       "    </tr>\n",
       "  </tbody>\n",
       "</table>\n",
       "</div>"
      ],
      "text/plain": [
       "   age     sex     bmi  children smoker     region      charges\n",
       "0   19  female  27.900         0    yes  southwest  16884.92400\n",
       "1   18    male  33.770         1     no  southeast   1725.55230\n",
       "2   28    male  33.000         3     no  southeast   4449.46200\n",
       "3   33    male  22.705         0     no  northwest  21984.47061\n",
       "4   32    male  28.880         0     no  northwest   3866.85520"
      ]
     },
     "execution_count": 2,
     "metadata": {},
     "output_type": "execute_result"
    }
   ],
   "source": [
    "data=\"Data/insurance.csv\"\n",
    "df= pd.read_csv(data)\n",
    "df1=df\n",
    "df.head()"
   ]
  },
  {
   "cell_type": "markdown",
   "metadata": {},
   "source": [
    "# <b>EDA</b>"
   ]
  },
  {
   "cell_type": "code",
   "execution_count": 3,
   "metadata": {},
   "outputs": [],
   "source": [
    "cut_points = [18,25,35,45,55,65]\n",
    "age_label = [\"remaja akhir\", \"dewasa awal\", \"dewasa akhir\", \"lansia awal\", \"lansia akhir\"] \n",
    "\n",
    "#implementasi label tersebut dengan membuat kolom baru bernama age_label\n",
    "df1['age_group'] = pd.cut(df1['age'], bins=cut_points, labels=age_label, include_lowest=True)\n"
   ]
  },
  {
   "cell_type": "code",
   "execution_count": 4,
   "metadata": {},
   "outputs": [],
   "source": [
    "cut_points = [0, 18.5, 22.9, 29.9, 100 ]\n",
    "bmi_label = [\"kurang\",\"normal\",\"berlebih\", \"obesitas\" ]\n",
    "\n",
    "#implementasi label tersebut dengan membuat kolom baru bernama age_label\n",
    "df1['bmi_group'] = pd.cut(df1['bmi'], bins=cut_points,labels=bmi_label, include_lowest=True)\n"
   ]
  },
  {
   "cell_type": "code",
   "execution_count": 5,
   "metadata": {},
   "outputs": [
    {
     "data": {
      "text/html": [
       "<div>\n",
       "<style scoped>\n",
       "    .dataframe tbody tr th:only-of-type {\n",
       "        vertical-align: middle;\n",
       "    }\n",
       "\n",
       "    .dataframe tbody tr th {\n",
       "        vertical-align: top;\n",
       "    }\n",
       "\n",
       "    .dataframe thead th {\n",
       "        text-align: right;\n",
       "    }\n",
       "</style>\n",
       "<table border=\"1\" class=\"dataframe\">\n",
       "  <thead>\n",
       "    <tr style=\"text-align: right;\">\n",
       "      <th></th>\n",
       "      <th>age</th>\n",
       "      <th>sex</th>\n",
       "      <th>bmi</th>\n",
       "      <th>children</th>\n",
       "      <th>smoker</th>\n",
       "      <th>region</th>\n",
       "      <th>charges</th>\n",
       "      <th>age_group</th>\n",
       "      <th>bmi_group</th>\n",
       "    </tr>\n",
       "  </thead>\n",
       "  <tbody>\n",
       "    <tr>\n",
       "      <th>951</th>\n",
       "      <td>51</td>\n",
       "      <td>male</td>\n",
       "      <td>42.90</td>\n",
       "      <td>2</td>\n",
       "      <td>yes</td>\n",
       "      <td>southeast</td>\n",
       "      <td>47462.8940</td>\n",
       "      <td>lansia awal</td>\n",
       "      <td>obesitas</td>\n",
       "    </tr>\n",
       "    <tr>\n",
       "      <th>1069</th>\n",
       "      <td>54</td>\n",
       "      <td>female</td>\n",
       "      <td>31.90</td>\n",
       "      <td>1</td>\n",
       "      <td>no</td>\n",
       "      <td>southeast</td>\n",
       "      <td>10928.8490</td>\n",
       "      <td>lansia awal</td>\n",
       "      <td>obesitas</td>\n",
       "    </tr>\n",
       "    <tr>\n",
       "      <th>993</th>\n",
       "      <td>38</td>\n",
       "      <td>male</td>\n",
       "      <td>28.27</td>\n",
       "      <td>1</td>\n",
       "      <td>no</td>\n",
       "      <td>southeast</td>\n",
       "      <td>5484.4673</td>\n",
       "      <td>dewasa akhir</td>\n",
       "      <td>berlebih</td>\n",
       "    </tr>\n",
       "  </tbody>\n",
       "</table>\n",
       "</div>"
      ],
      "text/plain": [
       "      age     sex    bmi  children smoker     region     charges  \\\n",
       "951    51    male  42.90         2    yes  southeast  47462.8940   \n",
       "1069   54  female  31.90         1     no  southeast  10928.8490   \n",
       "993    38    male  28.27         1     no  southeast   5484.4673   \n",
       "\n",
       "         age_group bmi_group  \n",
       "951    lansia awal  obesitas  \n",
       "1069   lansia awal  obesitas  \n",
       "993   dewasa akhir  berlebih  "
      ]
     },
     "execution_count": 5,
     "metadata": {},
     "output_type": "execute_result"
    }
   ],
   "source": [
    "df1.sample(3)"
   ]
  },
  {
   "cell_type": "code",
   "execution_count": 6,
   "metadata": {},
   "outputs": [
    {
     "name": "stdout",
     "output_type": "stream",
     "text": [
      "<class 'pandas.core.frame.DataFrame'>\n",
      "RangeIndex: 1338 entries, 0 to 1337\n",
      "Data columns (total 9 columns):\n",
      " #   Column     Non-Null Count  Dtype   \n",
      "---  ------     --------------  -----   \n",
      " 0   age        1338 non-null   int64   \n",
      " 1   sex        1338 non-null   object  \n",
      " 2   bmi        1338 non-null   float64 \n",
      " 3   children   1338 non-null   int64   \n",
      " 4   smoker     1338 non-null   object  \n",
      " 5   region     1338 non-null   object  \n",
      " 6   charges    1338 non-null   float64 \n",
      " 7   age_group  1338 non-null   category\n",
      " 8   bmi_group  1338 non-null   category\n",
      "dtypes: category(2), float64(2), int64(2), object(3)\n",
      "memory usage: 76.3+ KB\n"
     ]
    }
   ],
   "source": [
    "df1.info()"
   ]
  },
  {
   "cell_type": "code",
   "execution_count": 7,
   "metadata": {},
   "outputs": [
    {
     "data": {
      "text/plain": [
       "age          0\n",
       "sex          0\n",
       "bmi          0\n",
       "children     0\n",
       "smoker       0\n",
       "region       0\n",
       "charges      0\n",
       "age_group    0\n",
       "bmi_group    0\n",
       "dtype: int64"
      ]
     },
     "execution_count": 7,
     "metadata": {},
     "output_type": "execute_result"
    }
   ],
   "source": [
    "df1.isnull().sum()"
   ]
  },
  {
   "cell_type": "code",
   "execution_count": 8,
   "metadata": {},
   "outputs": [
    {
     "data": {
      "text/html": [
       "<div>\n",
       "<style scoped>\n",
       "    .dataframe tbody tr th:only-of-type {\n",
       "        vertical-align: middle;\n",
       "    }\n",
       "\n",
       "    .dataframe tbody tr th {\n",
       "        vertical-align: top;\n",
       "    }\n",
       "\n",
       "    .dataframe thead th {\n",
       "        text-align: right;\n",
       "    }\n",
       "</style>\n",
       "<table border=\"1\" class=\"dataframe\">\n",
       "  <thead>\n",
       "    <tr style=\"text-align: right;\">\n",
       "      <th></th>\n",
       "      <th>age</th>\n",
       "      <th>bmi</th>\n",
       "      <th>children</th>\n",
       "      <th>charges</th>\n",
       "    </tr>\n",
       "  </thead>\n",
       "  <tbody>\n",
       "    <tr>\n",
       "      <th>count</th>\n",
       "      <td>1338.000000</td>\n",
       "      <td>1338.000000</td>\n",
       "      <td>1338.000000</td>\n",
       "      <td>1338.000000</td>\n",
       "    </tr>\n",
       "    <tr>\n",
       "      <th>mean</th>\n",
       "      <td>39.207025</td>\n",
       "      <td>30.663397</td>\n",
       "      <td>1.094918</td>\n",
       "      <td>13270.422265</td>\n",
       "    </tr>\n",
       "    <tr>\n",
       "      <th>std</th>\n",
       "      <td>14.049960</td>\n",
       "      <td>6.098187</td>\n",
       "      <td>1.205493</td>\n",
       "      <td>12110.011237</td>\n",
       "    </tr>\n",
       "    <tr>\n",
       "      <th>min</th>\n",
       "      <td>18.000000</td>\n",
       "      <td>15.960000</td>\n",
       "      <td>0.000000</td>\n",
       "      <td>1121.873900</td>\n",
       "    </tr>\n",
       "    <tr>\n",
       "      <th>25%</th>\n",
       "      <td>27.000000</td>\n",
       "      <td>26.296250</td>\n",
       "      <td>0.000000</td>\n",
       "      <td>4740.287150</td>\n",
       "    </tr>\n",
       "    <tr>\n",
       "      <th>50%</th>\n",
       "      <td>39.000000</td>\n",
       "      <td>30.400000</td>\n",
       "      <td>1.000000</td>\n",
       "      <td>9382.033000</td>\n",
       "    </tr>\n",
       "    <tr>\n",
       "      <th>75%</th>\n",
       "      <td>51.000000</td>\n",
       "      <td>34.693750</td>\n",
       "      <td>2.000000</td>\n",
       "      <td>16639.912515</td>\n",
       "    </tr>\n",
       "    <tr>\n",
       "      <th>max</th>\n",
       "      <td>64.000000</td>\n",
       "      <td>53.130000</td>\n",
       "      <td>5.000000</td>\n",
       "      <td>63770.428010</td>\n",
       "    </tr>\n",
       "  </tbody>\n",
       "</table>\n",
       "</div>"
      ],
      "text/plain": [
       "               age          bmi     children       charges\n",
       "count  1338.000000  1338.000000  1338.000000   1338.000000\n",
       "mean     39.207025    30.663397     1.094918  13270.422265\n",
       "std      14.049960     6.098187     1.205493  12110.011237\n",
       "min      18.000000    15.960000     0.000000   1121.873900\n",
       "25%      27.000000    26.296250     0.000000   4740.287150\n",
       "50%      39.000000    30.400000     1.000000   9382.033000\n",
       "75%      51.000000    34.693750     2.000000  16639.912515\n",
       "max      64.000000    53.130000     5.000000  63770.428010"
      ]
     },
     "execution_count": 8,
     "metadata": {},
     "output_type": "execute_result"
    }
   ],
   "source": [
    "df1.describe()"
   ]
  },
  {
   "cell_type": "code",
   "execution_count": 9,
   "metadata": {},
   "outputs": [
    {
     "data": {
      "text/html": [
       "<div>\n",
       "<style scoped>\n",
       "    .dataframe tbody tr th:only-of-type {\n",
       "        vertical-align: middle;\n",
       "    }\n",
       "\n",
       "    .dataframe tbody tr th {\n",
       "        vertical-align: top;\n",
       "    }\n",
       "\n",
       "    .dataframe thead th {\n",
       "        text-align: right;\n",
       "    }\n",
       "</style>\n",
       "<table border=\"1\" class=\"dataframe\">\n",
       "  <thead>\n",
       "    <tr style=\"text-align: right;\">\n",
       "      <th></th>\n",
       "      <th>sex</th>\n",
       "      <th>smoker</th>\n",
       "      <th>region</th>\n",
       "    </tr>\n",
       "  </thead>\n",
       "  <tbody>\n",
       "    <tr>\n",
       "      <th>count</th>\n",
       "      <td>1338</td>\n",
       "      <td>1338</td>\n",
       "      <td>1338</td>\n",
       "    </tr>\n",
       "    <tr>\n",
       "      <th>unique</th>\n",
       "      <td>2</td>\n",
       "      <td>2</td>\n",
       "      <td>4</td>\n",
       "    </tr>\n",
       "    <tr>\n",
       "      <th>top</th>\n",
       "      <td>male</td>\n",
       "      <td>no</td>\n",
       "      <td>southeast</td>\n",
       "    </tr>\n",
       "    <tr>\n",
       "      <th>freq</th>\n",
       "      <td>676</td>\n",
       "      <td>1064</td>\n",
       "      <td>364</td>\n",
       "    </tr>\n",
       "  </tbody>\n",
       "</table>\n",
       "</div>"
      ],
      "text/plain": [
       "         sex smoker     region\n",
       "count   1338   1338       1338\n",
       "unique     2      2          4\n",
       "top     male     no  southeast\n",
       "freq     676   1064        364"
      ]
     },
     "execution_count": 9,
     "metadata": {},
     "output_type": "execute_result"
    }
   ],
   "source": [
    "df1.describe(include=\"O\")"
   ]
  },
  {
   "cell_type": "code",
   "execution_count": 10,
   "metadata": {},
   "outputs": [
    {
     "data": {
      "text/html": [
       "<div>\n",
       "<style scoped>\n",
       "    .dataframe tbody tr th:only-of-type {\n",
       "        vertical-align: middle;\n",
       "    }\n",
       "\n",
       "    .dataframe tbody tr th {\n",
       "        vertical-align: top;\n",
       "    }\n",
       "\n",
       "    .dataframe thead th {\n",
       "        text-align: right;\n",
       "    }\n",
       "</style>\n",
       "<table border=\"1\" class=\"dataframe\">\n",
       "  <thead>\n",
       "    <tr style=\"text-align: right;\">\n",
       "      <th></th>\n",
       "      <th>age</th>\n",
       "      <th>bmi</th>\n",
       "      <th>children</th>\n",
       "      <th>charges</th>\n",
       "    </tr>\n",
       "  </thead>\n",
       "  <tbody>\n",
       "    <tr>\n",
       "      <th>age</th>\n",
       "      <td>1.000000</td>\n",
       "      <td>0.109272</td>\n",
       "      <td>0.042469</td>\n",
       "      <td>0.299008</td>\n",
       "    </tr>\n",
       "    <tr>\n",
       "      <th>bmi</th>\n",
       "      <td>0.109272</td>\n",
       "      <td>1.000000</td>\n",
       "      <td>0.012759</td>\n",
       "      <td>0.198341</td>\n",
       "    </tr>\n",
       "    <tr>\n",
       "      <th>children</th>\n",
       "      <td>0.042469</td>\n",
       "      <td>0.012759</td>\n",
       "      <td>1.000000</td>\n",
       "      <td>0.067998</td>\n",
       "    </tr>\n",
       "    <tr>\n",
       "      <th>charges</th>\n",
       "      <td>0.299008</td>\n",
       "      <td>0.198341</td>\n",
       "      <td>0.067998</td>\n",
       "      <td>1.000000</td>\n",
       "    </tr>\n",
       "  </tbody>\n",
       "</table>\n",
       "</div>"
      ],
      "text/plain": [
       "               age       bmi  children   charges\n",
       "age       1.000000  0.109272  0.042469  0.299008\n",
       "bmi       0.109272  1.000000  0.012759  0.198341\n",
       "children  0.042469  0.012759  1.000000  0.067998\n",
       "charges   0.299008  0.198341  0.067998  1.000000"
      ]
     },
     "execution_count": 10,
     "metadata": {},
     "output_type": "execute_result"
    }
   ],
   "source": [
    "matrix_corr=df1.corr()\n",
    "matrix_corr"
   ]
  },
  {
   "cell_type": "code",
   "execution_count": 11,
   "metadata": {},
   "outputs": [
    {
     "data": {
      "text/plain": [
       "<AxesSubplot:>"
      ]
     },
     "execution_count": 11,
     "metadata": {},
     "output_type": "execute_result"
    },
    {
     "data": {
      "image/png": "[encoded data removed]",
      "text/plain": [
       "<Figure size 432x288 with 2 Axes>"
      ]
     },
     "metadata": {
      "needs_background": "light"
     },
     "output_type": "display_data"
    }
   ],
   "source": [
    "sns.heatmap(matrix_corr, annot=True, cmap=\"Reds\", fmt=\".2f\")"
   ]
  },
  {
   "cell_type": "code",
   "execution_count": 12,
   "metadata": {},
   "outputs": [
    {
     "data": {
      "image/png": "[encoded data removed]",
      "text/plain": [
       "<Figure size 1080x432 with 2 Axes>"
      ]
     },
     "metadata": {
      "needs_background": "light"
     },
     "output_type": "display_data"
    }
   ],
   "source": [
    "#Corelation matrix.\n",
    "cor_mat = df1[:].corr()\n",
    "mask = np.array(cor_mat)\n",
    "mask[np.tril_indices_from(mask)] = False\n",
    "fig = plt.gcf()\n",
    "fig.set_size_inches(15, 6)\n",
    "sns.heatmap(data=cor_mat, mask=mask, cmap=\"Blues\",\n",
    "            square=True, annot=True, cbar=True)\n",
    "plt.show()\n"
   ]
  },
  {
   "cell_type": "code",
   "execution_count": 13,
   "metadata": {},
   "outputs": [
    {
     "data": {
      "text/html": [
       "<div>\n",
       "<style scoped>\n",
       "    .dataframe tbody tr th:only-of-type {\n",
       "        vertical-align: middle;\n",
       "    }\n",
       "\n",
       "    .dataframe tbody tr th {\n",
       "        vertical-align: top;\n",
       "    }\n",
       "\n",
       "    .dataframe thead th {\n",
       "        text-align: right;\n",
       "    }\n",
       "</style>\n",
       "<table border=\"1\" class=\"dataframe\">\n",
       "  <thead>\n",
       "    <tr style=\"text-align: right;\">\n",
       "      <th></th>\n",
       "      <th>age</th>\n",
       "      <th>sex</th>\n",
       "      <th>bmi</th>\n",
       "      <th>children</th>\n",
       "      <th>smoker</th>\n",
       "      <th>region</th>\n",
       "      <th>charges</th>\n",
       "      <th>age_group</th>\n",
       "      <th>bmi_group</th>\n",
       "    </tr>\n",
       "  </thead>\n",
       "  <tbody>\n",
       "    <tr>\n",
       "      <th>0</th>\n",
       "      <td>19</td>\n",
       "      <td>female</td>\n",
       "      <td>27.90</td>\n",
       "      <td>0</td>\n",
       "      <td>yes</td>\n",
       "      <td>southwest</td>\n",
       "      <td>16884.9240</td>\n",
       "      <td>remaja akhir</td>\n",
       "      <td>berlebih</td>\n",
       "    </tr>\n",
       "    <tr>\n",
       "      <th>1</th>\n",
       "      <td>18</td>\n",
       "      <td>male</td>\n",
       "      <td>33.77</td>\n",
       "      <td>1</td>\n",
       "      <td>no</td>\n",
       "      <td>southeast</td>\n",
       "      <td>1725.5523</td>\n",
       "      <td>remaja akhir</td>\n",
       "      <td>obesitas</td>\n",
       "    </tr>\n",
       "    <tr>\n",
       "      <th>2</th>\n",
       "      <td>28</td>\n",
       "      <td>male</td>\n",
       "      <td>33.00</td>\n",
       "      <td>3</td>\n",
       "      <td>no</td>\n",
       "      <td>southeast</td>\n",
       "      <td>4449.4620</td>\n",
       "      <td>dewasa awal</td>\n",
       "      <td>obesitas</td>\n",
       "    </tr>\n",
       "  </tbody>\n",
       "</table>\n",
       "</div>"
      ],
      "text/plain": [
       "   age     sex    bmi  children smoker     region     charges     age_group  \\\n",
       "0   19  female  27.90         0    yes  southwest  16884.9240  remaja akhir   \n",
       "1   18    male  33.77         1     no  southeast   1725.5523  remaja akhir   \n",
       "2   28    male  33.00         3     no  southeast   4449.4620   dewasa awal   \n",
       "\n",
       "  bmi_group  \n",
       "0  berlebih  \n",
       "1  obesitas  \n",
       "2  obesitas  "
      ]
     },
     "execution_count": 13,
     "metadata": {},
     "output_type": "execute_result"
    }
   ],
   "source": [
    "df1.head(3)"
   ]
  },
  {
   "cell_type": "markdown",
   "metadata": {},
   "source": [
    "## Deskripsi/gambaran umum data secara visual"
   ]
  },
  {
   "cell_type": "code",
   "execution_count": 14,
   "metadata": {},
   "outputs": [
    {
     "data": {
      "image/png": "[encoded data removed]",
      "text/plain": [
       "<Figure size 1080x576 with 6 Axes>"
      ]
     },
     "metadata": {
      "needs_background": "light"
     },
     "output_type": "display_data"
    }
   ],
   "source": [
    "fig, ax = plt.subplots(2, 3, figsize=(15, 8))\n",
    "\n",
    "#subplot 1\n",
    "df1['sex'].value_counts().sort_index().plot.bar(ax=ax[0][0], color=\"#D57E7E\")\n",
    "ax[0][0].set_title('Sex')\n",
    "ax[0][0].set_ylabel(\"Count\")\n",
    "\n",
    "#subplot 2\n",
    "df1['smoker'].value_counts().sort_index().plot.bar(ax=ax[0][1], color=\"#D57E7E\")\n",
    "ax[0][1].set_title('Smoker')\n",
    "ax[0][1].set_ylabel(\"Count\")\n",
    "\n",
    "#subplot 3\n",
    "df1['region'].value_counts().sort_index().plot.bar(\n",
    "    ax=ax[0][2], color=\"#D57E7E\")\n",
    "ax[0][2].set_title('region')\n",
    "ax[0][2].set_ylabel(\"Count\")\n",
    "\n",
    "#subplot 4\n",
    "ax[1][0].pie(x=df1.sex.value_counts(), labels=[\"male\",\"female\"], autopct='%1.1f%%', shadow=True, startangle=90)\n",
    "\n",
    "#subplot 5\n",
    "ax[1][1].pie(x=df1.smoker.value_counts(), labels=[\"no\", \"yes\"],autopct='%1.1f%%', shadow=True, startangle=90)\n",
    "\n",
    "#subplot 6\n",
    "ax[1][2].pie(x=df1.region.value_counts().sort_index(), labels=[\"northeast\",\"northwest\",\"southeast\",\"southwest\"], autopct='%1.1f%%', shadow=True, startangle=90)\n",
    "\n",
    "plt.tight_layout(pad=1.3)\n",
    "plt.show()\n"
   ]
  },
  {
   "cell_type": "code",
   "execution_count": 15,
   "metadata": {},
   "outputs": [
    {
     "data": {
      "image/png": "[encoded data removed]",
      "text/plain": [
       "<Figure size 792x288 with 2 Axes>"
      ]
     },
     "metadata": {
      "needs_background": "light"
     },
     "output_type": "display_data"
    }
   ],
   "source": [
    "fig, ax = plt.subplots(1, 2, figsize=(11, 4))\n",
    "\n",
    "#subplot 1\n",
    "df1['age_group'].value_counts().sort_index().plot.bar(ax=ax[0], color=\"#911F27\")\n",
    "ax[0].set_title('Persentase data berdasarkan kelompok umur')\n",
    "ax[0].set_ylabel(\"Count\")\n",
    "\n",
    "#subplot 2\n",
    "df1['bmi_group'].value_counts().sort_index().plot.bar(ax=ax[1], color=\"#911F27\")\n",
    "ax[1].set_title('persentase data berdasarkan kategori BMI')\n",
    "ax[1].set_ylabel(\"Count\")\n",
    "\n",
    "plt.tight_layout(pad=1.5)\n",
    "plt.show()\n"
   ]
  },
  {
   "cell_type": "markdown",
   "metadata": {},
   "source": [
    "Berdasarkan data diatas:\n",
    "- atribut kelompok umur memiliki sebaran data yang sedikit bervariasi dimana data paling banyak dikategorikan dalam golongan \"remaja akhir\"\n",
    "- atribut bmi group memiliki pola kecenderungan. dimana data pengguna asuransi mayoritas diisi oleh orang dengan body mass index kategori \"berlebih dan \"obesitas\"\n"
   ]
  },
  {
   "cell_type": "code",
   "execution_count": 16,
   "metadata": {},
   "outputs": [
    {
     "data": {
      "image/png": "[encoded data removed]",
      "text/plain": [
       "<Figure size 936x504 with 6 Axes>"
      ]
     },
     "metadata": {
      "needs_background": "light"
     },
     "output_type": "display_data"
    }
   ],
   "source": [
    "#visualisasi kategori BMI di tiap kategori umur\n",
    "fig, ax = plt.subplots(2, 3, figsize=(13, 7))\n",
    "\n",
    "#subplot 1\n",
    "df1.loc[df1['age_group'] == \"remaja akhir\", ['bmi_group']].value_counts().sort_index().plot.bar(ax=ax[0][0])\n",
    "ax[0][0].set_title('remaja akhir')\n",
    "ax[0][0].set_ylabel(\"Count\")\n",
    "\n",
    "#subplot 2\n",
    "df1.loc[df1['age_group'] == \"dewasa awal\", ['bmi_group']].value_counts().sort_index().plot.bar(ax=ax[0][1])\n",
    "ax[0][1].set_title('dewasa awal')\n",
    "ax[0][1].set_ylabel(\"Count\")\n",
    "\n",
    "#subplot 3\n",
    "df1.loc[df1['age_group'] == \"dewasa akhir\", ['bmi_group']].value_counts().sort_index().plot.bar(ax=ax[0][2])\n",
    "ax[0][2].set_title('dewasa akhir')\n",
    "ax[0][2].set_ylabel(\"Count\")\n",
    "\n",
    "#subplot 4\n",
    "df1.loc[df1['age_group'] == \"lansia awal\", ['bmi_group']].value_counts().sort_index().plot.bar(ax=ax[1][0])\n",
    "ax[1][0].set_title('lansia awal')\n",
    "ax[1][0].set_ylabel(\"Count\")\n",
    "\n",
    "#subplot 5\n",
    "df1.loc[df1['age_group'] == \"lansia akhir\", ['bmi_group']].value_counts().sort_index().plot.bar(ax=ax[1][1])\n",
    "ax[1][1].set_title('lansia akhir')\n",
    "ax[1][1].set_ylabel(\"Count\")\n",
    "\n",
    "\n",
    "\n",
    "plt.tight_layout(pad=1.1)\n",
    "\n"
   ]
  },
  {
   "cell_type": "markdown",
   "metadata": {},
   "source": [
    "- Dengan menggabungkan 2 atribut (bmi group dan age group) didapatkan bahwa memang di setiap kategori umur yang dominan adalah orang yang  tergolong kategori BMI \"berlebih\" dan \"obesitas\"\n",
    "- dari hasil penjabaran visual diatas, semakin memperkuat argumen awal bahwa variabel BMI dan BMI group memiliki \"pattern\" yang terlihat jelas dan akan memiliki andil penting dalam proses pemodelan ML nantinya\n"
   ]
  },
  {
   "cell_type": "code",
   "execution_count": 17,
   "metadata": {},
   "outputs": [
    {
     "data": {
      "image/png": "[encoded data removed]",
      "text/plain": [
       "<Figure size 432x288 with 1 Axes>"
      ]
     },
     "metadata": {
      "needs_background": "light"
     },
     "output_type": "display_data"
    }
   ],
   "source": [
    "# obesitas berdasarkan kategori umur\n",
    "df1.loc[df1['bmi_group'] == \"obesitas\", ['age_group']].value_counts().sort_index().plot.bar(color=\"blue\")\n",
    "plt.title(\"Kategori umur dengan BMI berkategori obesitas\")\n",
    "plt.ylabel(\"count\")\n",
    "plt.show()"
   ]
  },
  {
   "cell_type": "code",
   "execution_count": 18,
   "metadata": {},
   "outputs": [
    {
     "data": {
      "image/png": "[encoded data removed]",
      "text/plain": [
       "<Figure size 1080x360 with 3 Axes>"
      ]
     },
     "metadata": {
      "needs_background": "light"
     },
     "output_type": "display_data"
    }
   ],
   "source": [
    "fig, ax = plt.subplots(1, 3, figsize=(15, 5))\n",
    "#subplot 1\n",
    "sns.countplot(data=df1, x=\"sex\", ax=ax[0], hue=\"bmi_group\")\n",
    "#subplot 2\n",
    "sns.countplot(data=df1, x=\"smoker\", ax=ax[1], hue=\"bmi_group\")\n",
    "\n",
    "#subplot 3\n",
    "sns.countplot(data=df1, x=\"region\", ax=ax[2], hue=\"bmi_group\")\n",
    "\n",
    "plt.show()"
   ]
  },
  {
   "cell_type": "code",
   "execution_count": 19,
   "metadata": {},
   "outputs": [
    {
     "data": {
      "text/html": [
       "<div>\n",
       "<style scoped>\n",
       "    .dataframe tbody tr th:only-of-type {\n",
       "        vertical-align: middle;\n",
       "    }\n",
       "\n",
       "    .dataframe tbody tr th {\n",
       "        vertical-align: top;\n",
       "    }\n",
       "\n",
       "    .dataframe thead th {\n",
       "        text-align: right;\n",
       "    }\n",
       "</style>\n",
       "<table border=\"1\" class=\"dataframe\">\n",
       "  <thead>\n",
       "    <tr style=\"text-align: right;\">\n",
       "      <th></th>\n",
       "      <th>age</th>\n",
       "      <th>sex</th>\n",
       "      <th>bmi</th>\n",
       "      <th>children</th>\n",
       "      <th>smoker</th>\n",
       "      <th>region</th>\n",
       "      <th>charges</th>\n",
       "      <th>age_group</th>\n",
       "      <th>bmi_group</th>\n",
       "    </tr>\n",
       "  </thead>\n",
       "  <tbody>\n",
       "    <tr>\n",
       "      <th>0</th>\n",
       "      <td>19</td>\n",
       "      <td>female</td>\n",
       "      <td>27.90</td>\n",
       "      <td>0</td>\n",
       "      <td>yes</td>\n",
       "      <td>southwest</td>\n",
       "      <td>16884.9240</td>\n",
       "      <td>remaja akhir</td>\n",
       "      <td>berlebih</td>\n",
       "    </tr>\n",
       "    <tr>\n",
       "      <th>1</th>\n",
       "      <td>18</td>\n",
       "      <td>male</td>\n",
       "      <td>33.77</td>\n",
       "      <td>1</td>\n",
       "      <td>no</td>\n",
       "      <td>southeast</td>\n",
       "      <td>1725.5523</td>\n",
       "      <td>remaja akhir</td>\n",
       "      <td>obesitas</td>\n",
       "    </tr>\n",
       "    <tr>\n",
       "      <th>2</th>\n",
       "      <td>28</td>\n",
       "      <td>male</td>\n",
       "      <td>33.00</td>\n",
       "      <td>3</td>\n",
       "      <td>no</td>\n",
       "      <td>southeast</td>\n",
       "      <td>4449.4620</td>\n",
       "      <td>dewasa awal</td>\n",
       "      <td>obesitas</td>\n",
       "    </tr>\n",
       "  </tbody>\n",
       "</table>\n",
       "</div>"
      ],
      "text/plain": [
       "   age     sex    bmi  children smoker     region     charges     age_group  \\\n",
       "0   19  female  27.90         0    yes  southwest  16884.9240  remaja akhir   \n",
       "1   18    male  33.77         1     no  southeast   1725.5523  remaja akhir   \n",
       "2   28    male  33.00         3     no  southeast   4449.4620   dewasa awal   \n",
       "\n",
       "  bmi_group  \n",
       "0  berlebih  \n",
       "1  obesitas  \n",
       "2  obesitas  "
      ]
     },
     "execution_count": 19,
     "metadata": {},
     "output_type": "execute_result"
    }
   ],
   "source": [
    "df1.head(3)"
   ]
  },
  {
   "cell_type": "markdown",
   "metadata": {},
   "source": [
    "## Analisis kolom feature dengan kolom target (Charges)"
   ]
  },
  {
   "cell_type": "code",
   "execution_count": 20,
   "metadata": {},
   "outputs": [
    {
     "data": {
      "image/png": "[encoded data removed]",
      "text/plain": [
       "<Figure size 432x288 with 1 Axes>"
      ]
     },
     "metadata": {
      "needs_background": "light"
     },
     "output_type": "display_data"
    }
   ],
   "source": [
    "df1_grouped = df1.groupby(['age_group']).mean()\n",
    "df1_grouped.charges.plot.bar(color=\"salmon\")\n",
    "plt.xticks(rotation=45)\n",
    "plt.xlabel(\"Kelompok usia\")\n",
    "plt.ylabel(\"rata-rata harga\")\n",
    "plt.title(\"Korelasi antara kelompok usia dengan rata-rata harga\")\n",
    "plt.show()\n"
   ]
  },
  {
   "cell_type": "code",
   "execution_count": 21,
   "metadata": {},
   "outputs": [
    {
     "data": {
      "image/png": "[encoded data removed]",
      "text/plain": [
       "<Figure size 432x288 with 1 Axes>"
      ]
     },
     "metadata": {
      "needs_background": "light"
     },
     "output_type": "display_data"
    }
   ],
   "source": [
    "df1_grouped1 = df1.groupby(['children']).mean()\n",
    "df1_grouped1.charges.plot.bar(color=\"#39A388\")\n",
    "plt.xticks(rotation=0)\n",
    "plt.xlabel(\"jumlah anak\")\n",
    "plt.ylabel(\"rata-rata harga\")\n",
    "plt.title(\"Korelasi antara jumlah anak dengan rata-rata harga\")\n",
    "plt.show()\n",
    "\n",
    "#bentuk non visual\n",
    "# c1 = df1.loc[df1[\"children\"] == 1, [\"charges\"]].mean()\n",
    "# c2 = df1.loc[df1[\"children\"] == 2, [\"charges\"]].mean()\n",
    "# c3 = df1.loc[df1[\"children\"] == 3, [\"charges\"]].mean()\n",
    "\n",
    "# print(\"charge asuransi rata2 dengan kondisi memiliki 1 anak: \", c1)\n",
    "# print(\"charge asuransi rata2 dengan kondisi memiliki 2 anak: \", c2)\n",
    "# print(\"charge asuransi rata2 dengan kondisi memiliki 3 anak: \", c3)\n"
   ]
  },
  {
   "cell_type": "code",
   "execution_count": 22,
   "metadata": {},
   "outputs": [
    {
     "data": {
      "image/png": "[encoded data removed]",
      "text/plain": [
       "<Figure size 432x288 with 1 Axes>"
      ]
     },
     "metadata": {
      "needs_background": "light"
     },
     "output_type": "display_data"
    }
   ],
   "source": [
    "df1_grouped2 = df1.groupby(['smoker']).mean()\n",
    "df1_grouped2.charges.plot.bar(color=\"#172774\")\n",
    "plt.xticks(rotation=0)\n",
    "plt.xlabel(\"Smoker\")\n",
    "plt.ylabel(\"rata-rata harga\")\n",
    "plt.title(\"Korelasi faktor perokok dengan rata-rata harga\")\n",
    "plt.show()\n"
   ]
  },
  {
   "cell_type": "code",
   "execution_count": 23,
   "metadata": {},
   "outputs": [
    {
     "data": {
      "image/png": "[encoded data removed]",
      "text/plain": [
       "<Figure size 432x288 with 1 Axes>"
      ]
     },
     "metadata": {
      "needs_background": "light"
     },
     "output_type": "display_data"
    }
   ],
   "source": [
    "df1_grouped3 = df1.groupby(['bmi_group']).mean()\n",
    "df1_grouped3.charges.plot.bar(color=\"#F0A500\")\n",
    "plt.xticks(rotation=45)\n",
    "plt.xlabel(\"Golongan BMI\")\n",
    "plt.ylabel(\"rata-rata harga\")\n",
    "plt.title(\"Korelasi antara golongan BMI dengan rata-rata harga\")\n",
    "plt.show()\n"
   ]
  },
  {
   "cell_type": "code",
   "execution_count": 24,
   "metadata": {},
   "outputs": [
    {
     "data": {
      "image/png": "[encoded data removed]",
      "text/plain": [
       "<Figure size 432x288 with 1 Axes>"
      ]
     },
     "metadata": {
      "needs_background": "light"
     },
     "output_type": "display_data"
    }
   ],
   "source": [
    "df1_grouped4= df1.groupby(['region']).mean()\n",
    "df1_grouped4.charges.plot.bar(color=\"#1DB9C3\")\n",
    "plt.xticks(rotation=45)\n",
    "plt.xlabel(\"region/area\")\n",
    "plt.ylabel(\"rata-rata harga\")\n",
    "plt.title(\"Korelasi antara region/area dengan rata-rata harga\")\n",
    "plt.show()\n"
   ]
  },
  {
   "cell_type": "markdown",
   "metadata": {},
   "source": [
    "# <b>Kesimpulan EDA</b>\n",
    "Hasil EDA dan visualisasi mempermudah melihat data2 yang memiliki pola dan keterikatan antar satu variabel dengan variabel lain, yang sangat berguna dalam meningkatkan performa model. kesimpulan nya antara lain:\n",
    "- diperlukan pengelompokan umur dan BMI untuk mempermudah melihat korelasinya dengan feature dan target variabel\n",
    "- kolom *\"sex\"* memiliki sebaran nilai yang merata antara \"male\" dan \"female\", namun tidak memiliki pola apabila dikaitkan dengan kolom lain\n",
    "- kolom *\"smoker\"* memiliki pola yang terlihat jelas jika dibandingkan dengan variabel target *\"charges\"*, dimana perokok cenderung membayar charge <b>lebih mahal</b>, akan tetapi kebanyakan yang tergolong obesitas berasal dari kalangan non perokok\n",
    "- kolom *\"region\"* tidak memiliki pola jika dibandingkan dengan kolom *\"charges\"*\n",
    "- kolom *\"age_group\"* memiliki korelasi dengan kolom *\"charges\"* dimana semakin tua golongan umur, semakin membayar mahal charge nya\n",
    "- kolom *\"bmi_group\"* memiliki korelasi dengan kolom *\"charges\"* dimana semakin mengarah ke obesitas, charge nya akan semakin tinggi\n",
    "- kolom *\"children\"*  memiliki sedikit pola jika dibandingkan dengan varabel target/ *\"charges\"*\n",
    "\n",
    "sampai tahap ini, kolom:\n",
    "- age\n",
    "- bmi\n",
    "- smoker\n",
    "- charges \n",
    "- age group\n",
    "- bmi group\n",
    "\n",
    "memiliki pola, dan cocok digunakan dalam modelling."
   ]
  },
  {
   "cell_type": "code",
   "execution_count": 25,
   "metadata": {},
   "outputs": [
    {
     "data": {
      "text/html": [
       "<div>\n",
       "<style scoped>\n",
       "    .dataframe tbody tr th:only-of-type {\n",
       "        vertical-align: middle;\n",
       "    }\n",
       "\n",
       "    .dataframe tbody tr th {\n",
       "        vertical-align: top;\n",
       "    }\n",
       "\n",
       "    .dataframe thead th {\n",
       "        text-align: right;\n",
       "    }\n",
       "</style>\n",
       "<table border=\"1\" class=\"dataframe\">\n",
       "  <thead>\n",
       "    <tr style=\"text-align: right;\">\n",
       "      <th></th>\n",
       "      <th>age</th>\n",
       "      <th>sex</th>\n",
       "      <th>bmi</th>\n",
       "      <th>children</th>\n",
       "      <th>smoker</th>\n",
       "      <th>region</th>\n",
       "      <th>charges</th>\n",
       "      <th>age_group</th>\n",
       "      <th>bmi_group</th>\n",
       "    </tr>\n",
       "  </thead>\n",
       "  <tbody>\n",
       "    <tr>\n",
       "      <th>0</th>\n",
       "      <td>19</td>\n",
       "      <td>female</td>\n",
       "      <td>27.900</td>\n",
       "      <td>0</td>\n",
       "      <td>yes</td>\n",
       "      <td>southwest</td>\n",
       "      <td>16884.92400</td>\n",
       "      <td>remaja akhir</td>\n",
       "      <td>berlebih</td>\n",
       "    </tr>\n",
       "    <tr>\n",
       "      <th>1</th>\n",
       "      <td>18</td>\n",
       "      <td>male</td>\n",
       "      <td>33.770</td>\n",
       "      <td>1</td>\n",
       "      <td>no</td>\n",
       "      <td>southeast</td>\n",
       "      <td>1725.55230</td>\n",
       "      <td>remaja akhir</td>\n",
       "      <td>obesitas</td>\n",
       "    </tr>\n",
       "    <tr>\n",
       "      <th>2</th>\n",
       "      <td>28</td>\n",
       "      <td>male</td>\n",
       "      <td>33.000</td>\n",
       "      <td>3</td>\n",
       "      <td>no</td>\n",
       "      <td>southeast</td>\n",
       "      <td>4449.46200</td>\n",
       "      <td>dewasa awal</td>\n",
       "      <td>obesitas</td>\n",
       "    </tr>\n",
       "    <tr>\n",
       "      <th>3</th>\n",
       "      <td>33</td>\n",
       "      <td>male</td>\n",
       "      <td>22.705</td>\n",
       "      <td>0</td>\n",
       "      <td>no</td>\n",
       "      <td>northwest</td>\n",
       "      <td>21984.47061</td>\n",
       "      <td>dewasa awal</td>\n",
       "      <td>normal</td>\n",
       "    </tr>\n",
       "    <tr>\n",
       "      <th>4</th>\n",
       "      <td>32</td>\n",
       "      <td>male</td>\n",
       "      <td>28.880</td>\n",
       "      <td>0</td>\n",
       "      <td>no</td>\n",
       "      <td>northwest</td>\n",
       "      <td>3866.85520</td>\n",
       "      <td>dewasa awal</td>\n",
       "      <td>berlebih</td>\n",
       "    </tr>\n",
       "  </tbody>\n",
       "</table>\n",
       "</div>"
      ],
      "text/plain": [
       "   age     sex     bmi  children smoker     region      charges     age_group  \\\n",
       "0   19  female  27.900         0    yes  southwest  16884.92400  remaja akhir   \n",
       "1   18    male  33.770         1     no  southeast   1725.55230  remaja akhir   \n",
       "2   28    male  33.000         3     no  southeast   4449.46200   dewasa awal   \n",
       "3   33    male  22.705         0     no  northwest  21984.47061   dewasa awal   \n",
       "4   32    male  28.880         0     no  northwest   3866.85520   dewasa awal   \n",
       "\n",
       "  bmi_group  \n",
       "0  berlebih  \n",
       "1  obesitas  \n",
       "2  obesitas  \n",
       "3    normal  \n",
       "4  berlebih  "
      ]
     },
     "execution_count": 25,
     "metadata": {},
     "output_type": "execute_result"
    }
   ],
   "source": [
    "df1.head()"
   ]
  },
  {
   "cell_type": "markdown",
   "metadata": {},
   "source": [
    "## Checking and handling outlier"
   ]
  },
  {
   "cell_type": "code",
   "execution_count": 26,
   "metadata": {},
   "outputs": [
    {
     "data": {
      "image/png": "[encoded data removed]",
      "text/plain": [
       "<Figure size 1152x288 with 3 Axes>"
      ]
     },
     "metadata": {
      "needs_background": "light"
     },
     "output_type": "display_data"
    }
   ],
   "source": [
    "#outlier detection\n",
    "f, ax = plt.subplots(1, 3, figsize=(16, 4))\n",
    "\n",
    "df1.age.plot.box(ax=ax[0])\n",
    "ax[0].set_ylabel('Age')\n",
    "ax[0].set_title(\"Box plot from Age\")\n",
    "\n",
    "df1.bmi.plot.box(ax=ax[1])\n",
    "ax[1].set_ylabel('Body Mass Index')\n",
    "ax[1].set_title(\"Box plot from BMI\")\n",
    "\n",
    "df1.plot.scatter(x='age', y='bmi', ax=ax[2])\n",
    "ax[2].set_title(\"Scatter PLot Age vs BMI\")\n",
    "\n",
    "plt.show()\n"
   ]
  },
  {
   "cell_type": "code",
   "execution_count": 27,
   "metadata": {},
   "outputs": [
    {
     "data": {
      "text/plain": [
       "Text(0.5, 1.0, 'BMI')"
      ]
     },
     "execution_count": 27,
     "metadata": {},
     "output_type": "execute_result"
    },
    {
     "data": {
      "image/png": "[encoded data removed]",
      "text/plain": [
       "<Figure size 1152x288 with 2 Axes>"
      ]
     },
     "metadata": {
      "needs_background": "light"
     },
     "output_type": "display_data"
    }
   ],
   "source": [
    "#histogram\n",
    "f, ax = plt.subplots(1, 2, figsize=(16, 4))\n",
    "\n",
    "df1.age.plot.hist(ax=ax[0])\n",
    "ax[0].set_ylabel('count')\n",
    "ax[0].set_title(\"Age\")\n",
    "\n",
    "df1.bmi.plot.hist(ax=ax[1])\n",
    "ax[1].set_ylabel('count')\n",
    "ax[1].set_title(\"BMI\")\n"
   ]
  },
  {
   "cell_type": "code",
   "execution_count": 28,
   "metadata": {},
   "outputs": [
    {
     "name": "stdout",
     "output_type": "stream",
     "text": [
      "13.7 47.290000000000006\n"
     ]
    }
   ],
   "source": [
    "#menghitung IQR (interquartile range)\n",
    "q1 = df1.bmi.quantile(0.25)\n",
    "q3 = df1.bmi.quantile(0.75)\n",
    "\n",
    "iqr = q3-q1\n",
    "\n",
    "#mengkitung nilai batas bawah dan batas atas\n",
    "iqr_lower = q1 - 1.5*iqr\n",
    "iqr_upper = q3 + 1.5*iqr\n",
    "\n",
    "#Print nilai\n",
    "print(iqr_lower, iqr_upper)\n"
   ]
  },
  {
   "cell_type": "code",
   "execution_count": 29,
   "metadata": {},
   "outputs": [
    {
     "data": {
      "text/html": [
       "<div>\n",
       "<style scoped>\n",
       "    .dataframe tbody tr th:only-of-type {\n",
       "        vertical-align: middle;\n",
       "    }\n",
       "\n",
       "    .dataframe tbody tr th {\n",
       "        vertical-align: top;\n",
       "    }\n",
       "\n",
       "    .dataframe thead th {\n",
       "        text-align: right;\n",
       "    }\n",
       "</style>\n",
       "<table border=\"1\" class=\"dataframe\">\n",
       "  <thead>\n",
       "    <tr style=\"text-align: right;\">\n",
       "      <th></th>\n",
       "      <th>age</th>\n",
       "      <th>sex</th>\n",
       "      <th>bmi</th>\n",
       "      <th>children</th>\n",
       "      <th>smoker</th>\n",
       "      <th>region</th>\n",
       "      <th>charges</th>\n",
       "      <th>age_group</th>\n",
       "      <th>bmi_group</th>\n",
       "    </tr>\n",
       "  </thead>\n",
       "  <tbody>\n",
       "    <tr>\n",
       "      <th>116</th>\n",
       "      <td>58</td>\n",
       "      <td>male</td>\n",
       "      <td>49.06</td>\n",
       "      <td>0</td>\n",
       "      <td>no</td>\n",
       "      <td>southeast</td>\n",
       "      <td>11381.32540</td>\n",
       "      <td>lansia akhir</td>\n",
       "      <td>obesitas</td>\n",
       "    </tr>\n",
       "    <tr>\n",
       "      <th>286</th>\n",
       "      <td>46</td>\n",
       "      <td>female</td>\n",
       "      <td>48.07</td>\n",
       "      <td>2</td>\n",
       "      <td>no</td>\n",
       "      <td>northeast</td>\n",
       "      <td>9432.92530</td>\n",
       "      <td>lansia awal</td>\n",
       "      <td>obesitas</td>\n",
       "    </tr>\n",
       "    <tr>\n",
       "      <th>401</th>\n",
       "      <td>47</td>\n",
       "      <td>male</td>\n",
       "      <td>47.52</td>\n",
       "      <td>1</td>\n",
       "      <td>no</td>\n",
       "      <td>southeast</td>\n",
       "      <td>8083.91980</td>\n",
       "      <td>lansia awal</td>\n",
       "      <td>obesitas</td>\n",
       "    </tr>\n",
       "    <tr>\n",
       "      <th>543</th>\n",
       "      <td>54</td>\n",
       "      <td>female</td>\n",
       "      <td>47.41</td>\n",
       "      <td>0</td>\n",
       "      <td>yes</td>\n",
       "      <td>southeast</td>\n",
       "      <td>63770.42801</td>\n",
       "      <td>lansia awal</td>\n",
       "      <td>obesitas</td>\n",
       "    </tr>\n",
       "    <tr>\n",
       "      <th>847</th>\n",
       "      <td>23</td>\n",
       "      <td>male</td>\n",
       "      <td>50.38</td>\n",
       "      <td>1</td>\n",
       "      <td>no</td>\n",
       "      <td>southeast</td>\n",
       "      <td>2438.05520</td>\n",
       "      <td>remaja akhir</td>\n",
       "      <td>obesitas</td>\n",
       "    </tr>\n",
       "    <tr>\n",
       "      <th>860</th>\n",
       "      <td>37</td>\n",
       "      <td>female</td>\n",
       "      <td>47.60</td>\n",
       "      <td>2</td>\n",
       "      <td>yes</td>\n",
       "      <td>southwest</td>\n",
       "      <td>46113.51100</td>\n",
       "      <td>dewasa akhir</td>\n",
       "      <td>obesitas</td>\n",
       "    </tr>\n",
       "    <tr>\n",
       "      <th>1047</th>\n",
       "      <td>22</td>\n",
       "      <td>male</td>\n",
       "      <td>52.58</td>\n",
       "      <td>1</td>\n",
       "      <td>yes</td>\n",
       "      <td>southeast</td>\n",
       "      <td>44501.39820</td>\n",
       "      <td>remaja akhir</td>\n",
       "      <td>obesitas</td>\n",
       "    </tr>\n",
       "    <tr>\n",
       "      <th>1088</th>\n",
       "      <td>52</td>\n",
       "      <td>male</td>\n",
       "      <td>47.74</td>\n",
       "      <td>1</td>\n",
       "      <td>no</td>\n",
       "      <td>southeast</td>\n",
       "      <td>9748.91060</td>\n",
       "      <td>lansia awal</td>\n",
       "      <td>obesitas</td>\n",
       "    </tr>\n",
       "    <tr>\n",
       "      <th>1317</th>\n",
       "      <td>18</td>\n",
       "      <td>male</td>\n",
       "      <td>53.13</td>\n",
       "      <td>0</td>\n",
       "      <td>no</td>\n",
       "      <td>southeast</td>\n",
       "      <td>1163.46270</td>\n",
       "      <td>remaja akhir</td>\n",
       "      <td>obesitas</td>\n",
       "    </tr>\n",
       "  </tbody>\n",
       "</table>\n",
       "</div>"
      ],
      "text/plain": [
       "      age     sex    bmi  children smoker     region      charges  \\\n",
       "116    58    male  49.06         0     no  southeast  11381.32540   \n",
       "286    46  female  48.07         2     no  northeast   9432.92530   \n",
       "401    47    male  47.52         1     no  southeast   8083.91980   \n",
       "543    54  female  47.41         0    yes  southeast  63770.42801   \n",
       "847    23    male  50.38         1     no  southeast   2438.05520   \n",
       "860    37  female  47.60         2    yes  southwest  46113.51100   \n",
       "1047   22    male  52.58         1    yes  southeast  44501.39820   \n",
       "1088   52    male  47.74         1     no  southeast   9748.91060   \n",
       "1317   18    male  53.13         0     no  southeast   1163.46270   \n",
       "\n",
       "         age_group bmi_group  \n",
       "116   lansia akhir  obesitas  \n",
       "286    lansia awal  obesitas  \n",
       "401    lansia awal  obesitas  \n",
       "543    lansia awal  obesitas  \n",
       "847   remaja akhir  obesitas  \n",
       "860   dewasa akhir  obesitas  \n",
       "1047  remaja akhir  obesitas  \n",
       "1088   lansia awal  obesitas  \n",
       "1317  remaja akhir  obesitas  "
      ]
     },
     "execution_count": 29,
     "metadata": {},
     "output_type": "execute_result"
    }
   ],
   "source": [
    "outlier_atas = df1.loc[df1[\"bmi\"] > iqr_upper, :]\n",
    "outlier_atas\n"
   ]
  },
  {
   "cell_type": "markdown",
   "metadata": {},
   "source": [
    "Data diatas merupakan data outliar yang dapat mempengaruhi performa pemodelan ML, sehingga perlu di handle, ada berbagai cara yang dapat dilakukan untuk mengatasi outlier, cara yang akan dilakukan kali ini adalah dengan memasukkan nilai rata2 (mean) dari BMI"
   ]
  },
  {
   "cell_type": "code",
   "execution_count": 30,
   "metadata": {},
   "outputs": [],
   "source": [
    "#tahap pertama ganti outlier dengan nilai NA sehingga menjadi missing value\n",
    "df1[\"bmi_iqr\"] = df1[\"bmi\"]\n",
    "df1.loc[df1[\"bmi_iqr\"] < iqr_lower, [\"bmi_iqr\",\"bmi_group\"]] = pd.NA\n",
    "df1.loc[df1[\"bmi_iqr\"] > iqr_upper, [\"bmi_iqr\",\"bmi_group\"]] = pd.NA\n",
    "\n",
    "\n"
   ]
  },
  {
   "cell_type": "code",
   "execution_count": 31,
   "metadata": {},
   "outputs": [
    {
     "data": {
      "text/html": [
       "<div>\n",
       "<style scoped>\n",
       "    .dataframe tbody tr th:only-of-type {\n",
       "        vertical-align: middle;\n",
       "    }\n",
       "\n",
       "    .dataframe tbody tr th {\n",
       "        vertical-align: top;\n",
       "    }\n",
       "\n",
       "    .dataframe thead th {\n",
       "        text-align: right;\n",
       "    }\n",
       "</style>\n",
       "<table border=\"1\" class=\"dataframe\">\n",
       "  <thead>\n",
       "    <tr style=\"text-align: right;\">\n",
       "      <th></th>\n",
       "      <th>age</th>\n",
       "      <th>sex</th>\n",
       "      <th>bmi</th>\n",
       "      <th>children</th>\n",
       "      <th>smoker</th>\n",
       "      <th>region</th>\n",
       "      <th>charges</th>\n",
       "      <th>age_group</th>\n",
       "      <th>bmi_group</th>\n",
       "      <th>bmi_iqr</th>\n",
       "    </tr>\n",
       "  </thead>\n",
       "  <tbody>\n",
       "    <tr>\n",
       "      <th>116</th>\n",
       "      <td>58</td>\n",
       "      <td>male</td>\n",
       "      <td>49.06</td>\n",
       "      <td>0</td>\n",
       "      <td>no</td>\n",
       "      <td>southeast</td>\n",
       "      <td>11381.32540</td>\n",
       "      <td>lansia akhir</td>\n",
       "      <td>NaN</td>\n",
       "      <td>&lt;NA&gt;</td>\n",
       "    </tr>\n",
       "    <tr>\n",
       "      <th>286</th>\n",
       "      <td>46</td>\n",
       "      <td>female</td>\n",
       "      <td>48.07</td>\n",
       "      <td>2</td>\n",
       "      <td>no</td>\n",
       "      <td>northeast</td>\n",
       "      <td>9432.92530</td>\n",
       "      <td>lansia awal</td>\n",
       "      <td>NaN</td>\n",
       "      <td>&lt;NA&gt;</td>\n",
       "    </tr>\n",
       "    <tr>\n",
       "      <th>401</th>\n",
       "      <td>47</td>\n",
       "      <td>male</td>\n",
       "      <td>47.52</td>\n",
       "      <td>1</td>\n",
       "      <td>no</td>\n",
       "      <td>southeast</td>\n",
       "      <td>8083.91980</td>\n",
       "      <td>lansia awal</td>\n",
       "      <td>NaN</td>\n",
       "      <td>&lt;NA&gt;</td>\n",
       "    </tr>\n",
       "    <tr>\n",
       "      <th>543</th>\n",
       "      <td>54</td>\n",
       "      <td>female</td>\n",
       "      <td>47.41</td>\n",
       "      <td>0</td>\n",
       "      <td>yes</td>\n",
       "      <td>southeast</td>\n",
       "      <td>63770.42801</td>\n",
       "      <td>lansia awal</td>\n",
       "      <td>NaN</td>\n",
       "      <td>&lt;NA&gt;</td>\n",
       "    </tr>\n",
       "    <tr>\n",
       "      <th>847</th>\n",
       "      <td>23</td>\n",
       "      <td>male</td>\n",
       "      <td>50.38</td>\n",
       "      <td>1</td>\n",
       "      <td>no</td>\n",
       "      <td>southeast</td>\n",
       "      <td>2438.05520</td>\n",
       "      <td>remaja akhir</td>\n",
       "      <td>NaN</td>\n",
       "      <td>&lt;NA&gt;</td>\n",
       "    </tr>\n",
       "    <tr>\n",
       "      <th>860</th>\n",
       "      <td>37</td>\n",
       "      <td>female</td>\n",
       "      <td>47.60</td>\n",
       "      <td>2</td>\n",
       "      <td>yes</td>\n",
       "      <td>southwest</td>\n",
       "      <td>46113.51100</td>\n",
       "      <td>dewasa akhir</td>\n",
       "      <td>NaN</td>\n",
       "      <td>&lt;NA&gt;</td>\n",
       "    </tr>\n",
       "    <tr>\n",
       "      <th>1047</th>\n",
       "      <td>22</td>\n",
       "      <td>male</td>\n",
       "      <td>52.58</td>\n",
       "      <td>1</td>\n",
       "      <td>yes</td>\n",
       "      <td>southeast</td>\n",
       "      <td>44501.39820</td>\n",
       "      <td>remaja akhir</td>\n",
       "      <td>NaN</td>\n",
       "      <td>&lt;NA&gt;</td>\n",
       "    </tr>\n",
       "    <tr>\n",
       "      <th>1088</th>\n",
       "      <td>52</td>\n",
       "      <td>male</td>\n",
       "      <td>47.74</td>\n",
       "      <td>1</td>\n",
       "      <td>no</td>\n",
       "      <td>southeast</td>\n",
       "      <td>9748.91060</td>\n",
       "      <td>lansia awal</td>\n",
       "      <td>NaN</td>\n",
       "      <td>&lt;NA&gt;</td>\n",
       "    </tr>\n",
       "    <tr>\n",
       "      <th>1317</th>\n",
       "      <td>18</td>\n",
       "      <td>male</td>\n",
       "      <td>53.13</td>\n",
       "      <td>0</td>\n",
       "      <td>no</td>\n",
       "      <td>southeast</td>\n",
       "      <td>1163.46270</td>\n",
       "      <td>remaja akhir</td>\n",
       "      <td>NaN</td>\n",
       "      <td>&lt;NA&gt;</td>\n",
       "    </tr>\n",
       "  </tbody>\n",
       "</table>\n",
       "</div>"
      ],
      "text/plain": [
       "      age     sex    bmi  children smoker     region      charges  \\\n",
       "116    58    male  49.06         0     no  southeast  11381.32540   \n",
       "286    46  female  48.07         2     no  northeast   9432.92530   \n",
       "401    47    male  47.52         1     no  southeast   8083.91980   \n",
       "543    54  female  47.41         0    yes  southeast  63770.42801   \n",
       "847    23    male  50.38         1     no  southeast   2438.05520   \n",
       "860    37  female  47.60         2    yes  southwest  46113.51100   \n",
       "1047   22    male  52.58         1    yes  southeast  44501.39820   \n",
       "1088   52    male  47.74         1     no  southeast   9748.91060   \n",
       "1317   18    male  53.13         0     no  southeast   1163.46270   \n",
       "\n",
       "         age_group bmi_group bmi_iqr  \n",
       "116   lansia akhir       NaN    <NA>  \n",
       "286    lansia awal       NaN    <NA>  \n",
       "401    lansia awal       NaN    <NA>  \n",
       "543    lansia awal       NaN    <NA>  \n",
       "847   remaja akhir       NaN    <NA>  \n",
       "860   dewasa akhir       NaN    <NA>  \n",
       "1047  remaja akhir       NaN    <NA>  \n",
       "1088   lansia awal       NaN    <NA>  \n",
       "1317  remaja akhir       NaN    <NA>  "
      ]
     },
     "execution_count": 31,
     "metadata": {},
     "output_type": "execute_result"
    }
   ],
   "source": [
    "df1.loc[df1[\"bmi\"] > iqr_upper, :]\n"
   ]
  },
  {
   "cell_type": "code",
   "execution_count": 32,
   "metadata": {},
   "outputs": [
    {
     "data": {
      "text/plain": [
       "30.663396860986538"
      ]
     },
     "execution_count": 32,
     "metadata": {},
     "output_type": "execute_result"
    }
   ],
   "source": [
    "df1.bmi.mean()"
   ]
  },
  {
   "cell_type": "code",
   "execution_count": 33,
   "metadata": {},
   "outputs": [
    {
     "data": {
      "text/plain": [
       "30.53734762979683"
      ]
     },
     "execution_count": 33,
     "metadata": {},
     "output_type": "execute_result"
    }
   ],
   "source": [
    "df1.bmi_iqr.mean()"
   ]
  },
  {
   "cell_type": "markdown",
   "metadata": {},
   "source": [
    "## Note\n",
    "nilai <b>30.53734762979683</b> yang merupakan nilai rata-rata akan dimasukkan ke dalam bmi_iqr yang bernilai NA, dan karena nilai <b>30.53734762979683</b> masuk kategori <b>*\"berlebih\"*</b>, maka akan diinputkan juga ke dalam variabel bmi_group"
   ]
  },
  {
   "cell_type": "code",
   "execution_count": 34,
   "metadata": {},
   "outputs": [],
   "source": [
    "df1.bmi_iqr.fillna(30.53734762979683, inplace=True)\n"
   ]
  },
  {
   "cell_type": "code",
   "execution_count": 35,
   "metadata": {},
   "outputs": [],
   "source": [
    "df1.bmi_group.fillna(\"berlebih\", inplace=True)\n"
   ]
  },
  {
   "cell_type": "code",
   "execution_count": 36,
   "metadata": {},
   "outputs": [
    {
     "data": {
      "text/plain": [
       "age          0\n",
       "sex          0\n",
       "bmi          0\n",
       "children     0\n",
       "smoker       0\n",
       "region       0\n",
       "charges      0\n",
       "age_group    0\n",
       "bmi_group    0\n",
       "bmi_iqr      0\n",
       "dtype: int64"
      ]
     },
     "execution_count": 36,
     "metadata": {},
     "output_type": "execute_result"
    }
   ],
   "source": [
    "df1.isnull().sum()"
   ]
  },
  {
   "cell_type": "code",
   "execution_count": 37,
   "metadata": {},
   "outputs": [
    {
     "data": {
      "image/png": "[encoded data removed]",
      "text/plain": [
       "<Figure size 432x288 with 1 Axes>"
      ]
     },
     "metadata": {
      "needs_background": "light"
     },
     "output_type": "display_data"
    }
   ],
   "source": [
    "df1[[\"bmi\",\"bmi_iqr\"]].plot.box()\n",
    "plt.show()"
   ]
  },
  {
   "cell_type": "code",
   "execution_count": 38,
   "metadata": {},
   "outputs": [
    {
     "data": {
      "text/plain": [
       "bmi        0.284047\n",
       "bmi_iqr    0.157710\n",
       "dtype: float64"
      ]
     },
     "execution_count": 38,
     "metadata": {},
     "output_type": "execute_result"
    }
   ],
   "source": [
    "#cek skewwnes setelah handling outlier\n",
    "df1[[\"bmi\",\"bmi_iqr\"]].skew()"
   ]
  },
  {
   "cell_type": "markdown",
   "metadata": {},
   "source": [
    "Setelah nilai outlier di handle, hasil nilai \"skew\" dari data bmi pun mengalami peningkatan(semakin mendekati nol)"
   ]
  },
  {
   "cell_type": "code",
   "execution_count": 39,
   "metadata": {},
   "outputs": [
    {
     "data": {
      "image/png": "[encoded data removed]",
      "text/plain": [
       "<Figure size 1080x288 with 2 Axes>"
      ]
     },
     "metadata": {
      "needs_background": "light"
     },
     "output_type": "display_data"
    }
   ],
   "source": [
    "df1[[\"bmi\", \"bmi_iqr\"]].hist(bins=30, figsize=(15,4))\n",
    "plt.show()\n"
   ]
  },
  {
   "cell_type": "markdown",
   "metadata": {},
   "source": [
    "Dari visualisasi diatas, dapat dilihat bahwa handling outlier dengan metode mean telah berhasil memperbaiki skewness/ kemiringan data pada kolom BMI. hasil yang diperoleh cukup memuaskan dan nilai bmi_iqr siap digunakan di tahap pemodelan"
   ]
  },
  {
   "cell_type": "code",
   "execution_count": 40,
   "metadata": {},
   "outputs": [
    {
     "data": {
      "text/html": [
       "<div>\n",
       "<style scoped>\n",
       "    .dataframe tbody tr th:only-of-type {\n",
       "        vertical-align: middle;\n",
       "    }\n",
       "\n",
       "    .dataframe tbody tr th {\n",
       "        vertical-align: top;\n",
       "    }\n",
       "\n",
       "    .dataframe thead th {\n",
       "        text-align: right;\n",
       "    }\n",
       "</style>\n",
       "<table border=\"1\" class=\"dataframe\">\n",
       "  <thead>\n",
       "    <tr style=\"text-align: right;\">\n",
       "      <th></th>\n",
       "      <th>age</th>\n",
       "      <th>sex</th>\n",
       "      <th>bmi</th>\n",
       "      <th>children</th>\n",
       "      <th>smoker</th>\n",
       "      <th>region</th>\n",
       "      <th>charges</th>\n",
       "      <th>age_group</th>\n",
       "      <th>bmi_group</th>\n",
       "      <th>bmi_iqr</th>\n",
       "    </tr>\n",
       "  </thead>\n",
       "  <tbody>\n",
       "    <tr>\n",
       "      <th>116</th>\n",
       "      <td>58</td>\n",
       "      <td>male</td>\n",
       "      <td>49.06</td>\n",
       "      <td>0</td>\n",
       "      <td>no</td>\n",
       "      <td>southeast</td>\n",
       "      <td>11381.32540</td>\n",
       "      <td>lansia akhir</td>\n",
       "      <td>berlebih</td>\n",
       "      <td>30.537348</td>\n",
       "    </tr>\n",
       "    <tr>\n",
       "      <th>286</th>\n",
       "      <td>46</td>\n",
       "      <td>female</td>\n",
       "      <td>48.07</td>\n",
       "      <td>2</td>\n",
       "      <td>no</td>\n",
       "      <td>northeast</td>\n",
       "      <td>9432.92530</td>\n",
       "      <td>lansia awal</td>\n",
       "      <td>berlebih</td>\n",
       "      <td>30.537348</td>\n",
       "    </tr>\n",
       "    <tr>\n",
       "      <th>401</th>\n",
       "      <td>47</td>\n",
       "      <td>male</td>\n",
       "      <td>47.52</td>\n",
       "      <td>1</td>\n",
       "      <td>no</td>\n",
       "      <td>southeast</td>\n",
       "      <td>8083.91980</td>\n",
       "      <td>lansia awal</td>\n",
       "      <td>berlebih</td>\n",
       "      <td>30.537348</td>\n",
       "    </tr>\n",
       "    <tr>\n",
       "      <th>543</th>\n",
       "      <td>54</td>\n",
       "      <td>female</td>\n",
       "      <td>47.41</td>\n",
       "      <td>0</td>\n",
       "      <td>yes</td>\n",
       "      <td>southeast</td>\n",
       "      <td>63770.42801</td>\n",
       "      <td>lansia awal</td>\n",
       "      <td>berlebih</td>\n",
       "      <td>30.537348</td>\n",
       "    </tr>\n",
       "    <tr>\n",
       "      <th>847</th>\n",
       "      <td>23</td>\n",
       "      <td>male</td>\n",
       "      <td>50.38</td>\n",
       "      <td>1</td>\n",
       "      <td>no</td>\n",
       "      <td>southeast</td>\n",
       "      <td>2438.05520</td>\n",
       "      <td>remaja akhir</td>\n",
       "      <td>berlebih</td>\n",
       "      <td>30.537348</td>\n",
       "    </tr>\n",
       "    <tr>\n",
       "      <th>860</th>\n",
       "      <td>37</td>\n",
       "      <td>female</td>\n",
       "      <td>47.60</td>\n",
       "      <td>2</td>\n",
       "      <td>yes</td>\n",
       "      <td>southwest</td>\n",
       "      <td>46113.51100</td>\n",
       "      <td>dewasa akhir</td>\n",
       "      <td>berlebih</td>\n",
       "      <td>30.537348</td>\n",
       "    </tr>\n",
       "    <tr>\n",
       "      <th>1047</th>\n",
       "      <td>22</td>\n",
       "      <td>male</td>\n",
       "      <td>52.58</td>\n",
       "      <td>1</td>\n",
       "      <td>yes</td>\n",
       "      <td>southeast</td>\n",
       "      <td>44501.39820</td>\n",
       "      <td>remaja akhir</td>\n",
       "      <td>berlebih</td>\n",
       "      <td>30.537348</td>\n",
       "    </tr>\n",
       "    <tr>\n",
       "      <th>1088</th>\n",
       "      <td>52</td>\n",
       "      <td>male</td>\n",
       "      <td>47.74</td>\n",
       "      <td>1</td>\n",
       "      <td>no</td>\n",
       "      <td>southeast</td>\n",
       "      <td>9748.91060</td>\n",
       "      <td>lansia awal</td>\n",
       "      <td>berlebih</td>\n",
       "      <td>30.537348</td>\n",
       "    </tr>\n",
       "    <tr>\n",
       "      <th>1317</th>\n",
       "      <td>18</td>\n",
       "      <td>male</td>\n",
       "      <td>53.13</td>\n",
       "      <td>0</td>\n",
       "      <td>no</td>\n",
       "      <td>southeast</td>\n",
       "      <td>1163.46270</td>\n",
       "      <td>remaja akhir</td>\n",
       "      <td>berlebih</td>\n",
       "      <td>30.537348</td>\n",
       "    </tr>\n",
       "  </tbody>\n",
       "</table>\n",
       "</div>"
      ],
      "text/plain": [
       "      age     sex    bmi  children smoker     region      charges  \\\n",
       "116    58    male  49.06         0     no  southeast  11381.32540   \n",
       "286    46  female  48.07         2     no  northeast   9432.92530   \n",
       "401    47    male  47.52         1     no  southeast   8083.91980   \n",
       "543    54  female  47.41         0    yes  southeast  63770.42801   \n",
       "847    23    male  50.38         1     no  southeast   2438.05520   \n",
       "860    37  female  47.60         2    yes  southwest  46113.51100   \n",
       "1047   22    male  52.58         1    yes  southeast  44501.39820   \n",
       "1088   52    male  47.74         1     no  southeast   9748.91060   \n",
       "1317   18    male  53.13         0     no  southeast   1163.46270   \n",
       "\n",
       "         age_group bmi_group    bmi_iqr  \n",
       "116   lansia akhir  berlebih  30.537348  \n",
       "286    lansia awal  berlebih  30.537348  \n",
       "401    lansia awal  berlebih  30.537348  \n",
       "543    lansia awal  berlebih  30.537348  \n",
       "847   remaja akhir  berlebih  30.537348  \n",
       "860   dewasa akhir  berlebih  30.537348  \n",
       "1047  remaja akhir  berlebih  30.537348  \n",
       "1088   lansia awal  berlebih  30.537348  \n",
       "1317  remaja akhir  berlebih  30.537348  "
      ]
     },
     "execution_count": 40,
     "metadata": {},
     "output_type": "execute_result"
    }
   ],
   "source": [
    "df1.loc[df1[\"bmi_iqr\"] == 30.53734762979683,: ]\n"
   ]
  },
  {
   "cell_type": "code",
   "execution_count": 41,
   "metadata": {},
   "outputs": [
    {
     "data": {
      "text/html": [
       "<div>\n",
       "<style scoped>\n",
       "    .dataframe tbody tr th:only-of-type {\n",
       "        vertical-align: middle;\n",
       "    }\n",
       "\n",
       "    .dataframe tbody tr th {\n",
       "        vertical-align: top;\n",
       "    }\n",
       "\n",
       "    .dataframe thead th {\n",
       "        text-align: right;\n",
       "    }\n",
       "</style>\n",
       "<table border=\"1\" class=\"dataframe\">\n",
       "  <thead>\n",
       "    <tr style=\"text-align: right;\">\n",
       "      <th></th>\n",
       "      <th>age</th>\n",
       "      <th>sex</th>\n",
       "      <th>bmi</th>\n",
       "      <th>children</th>\n",
       "      <th>smoker</th>\n",
       "      <th>region</th>\n",
       "      <th>charges</th>\n",
       "      <th>age_group</th>\n",
       "      <th>bmi_group</th>\n",
       "      <th>bmi_iqr</th>\n",
       "    </tr>\n",
       "  </thead>\n",
       "  <tbody>\n",
       "    <tr>\n",
       "      <th>0</th>\n",
       "      <td>19</td>\n",
       "      <td>female</td>\n",
       "      <td>27.900</td>\n",
       "      <td>0</td>\n",
       "      <td>yes</td>\n",
       "      <td>southwest</td>\n",
       "      <td>16884.92400</td>\n",
       "      <td>remaja akhir</td>\n",
       "      <td>berlebih</td>\n",
       "      <td>27.900</td>\n",
       "    </tr>\n",
       "    <tr>\n",
       "      <th>1</th>\n",
       "      <td>18</td>\n",
       "      <td>male</td>\n",
       "      <td>33.770</td>\n",
       "      <td>1</td>\n",
       "      <td>no</td>\n",
       "      <td>southeast</td>\n",
       "      <td>1725.55230</td>\n",
       "      <td>remaja akhir</td>\n",
       "      <td>obesitas</td>\n",
       "      <td>33.770</td>\n",
       "    </tr>\n",
       "    <tr>\n",
       "      <th>2</th>\n",
       "      <td>28</td>\n",
       "      <td>male</td>\n",
       "      <td>33.000</td>\n",
       "      <td>3</td>\n",
       "      <td>no</td>\n",
       "      <td>southeast</td>\n",
       "      <td>4449.46200</td>\n",
       "      <td>dewasa awal</td>\n",
       "      <td>obesitas</td>\n",
       "      <td>33.000</td>\n",
       "    </tr>\n",
       "    <tr>\n",
       "      <th>3</th>\n",
       "      <td>33</td>\n",
       "      <td>male</td>\n",
       "      <td>22.705</td>\n",
       "      <td>0</td>\n",
       "      <td>no</td>\n",
       "      <td>northwest</td>\n",
       "      <td>21984.47061</td>\n",
       "      <td>dewasa awal</td>\n",
       "      <td>normal</td>\n",
       "      <td>22.705</td>\n",
       "    </tr>\n",
       "    <tr>\n",
       "      <th>4</th>\n",
       "      <td>32</td>\n",
       "      <td>male</td>\n",
       "      <td>28.880</td>\n",
       "      <td>0</td>\n",
       "      <td>no</td>\n",
       "      <td>northwest</td>\n",
       "      <td>3866.85520</td>\n",
       "      <td>dewasa awal</td>\n",
       "      <td>berlebih</td>\n",
       "      <td>28.880</td>\n",
       "    </tr>\n",
       "  </tbody>\n",
       "</table>\n",
       "</div>"
      ],
      "text/plain": [
       "   age     sex     bmi  children smoker     region      charges     age_group  \\\n",
       "0   19  female  27.900         0    yes  southwest  16884.92400  remaja akhir   \n",
       "1   18    male  33.770         1     no  southeast   1725.55230  remaja akhir   \n",
       "2   28    male  33.000         3     no  southeast   4449.46200   dewasa awal   \n",
       "3   33    male  22.705         0     no  northwest  21984.47061   dewasa awal   \n",
       "4   32    male  28.880         0     no  northwest   3866.85520   dewasa awal   \n",
       "\n",
       "  bmi_group  bmi_iqr  \n",
       "0  berlebih   27.900  \n",
       "1  obesitas   33.770  \n",
       "2  obesitas   33.000  \n",
       "3    normal   22.705  \n",
       "4  berlebih   28.880  "
      ]
     },
     "execution_count": 41,
     "metadata": {},
     "output_type": "execute_result"
    }
   ],
   "source": [
    "df1.head()"
   ]
  },
  {
   "cell_type": "code",
   "execution_count": 42,
   "metadata": {},
   "outputs": [
    {
     "data": {
      "text/html": [
       "<div>\n",
       "<style scoped>\n",
       "    .dataframe tbody tr th:only-of-type {\n",
       "        vertical-align: middle;\n",
       "    }\n",
       "\n",
       "    .dataframe tbody tr th {\n",
       "        vertical-align: top;\n",
       "    }\n",
       "\n",
       "    .dataframe thead th {\n",
       "        text-align: right;\n",
       "    }\n",
       "</style>\n",
       "<table border=\"1\" class=\"dataframe\">\n",
       "  <thead>\n",
       "    <tr style=\"text-align: right;\">\n",
       "      <th></th>\n",
       "      <th>0</th>\n",
       "      <th>1</th>\n",
       "      <th>3</th>\n",
       "      <th>2</th>\n",
       "      <th>5</th>\n",
       "      <th>4</th>\n",
       "    </tr>\n",
       "  </thead>\n",
       "  <tbody>\n",
       "    <tr>\n",
       "      <th>1312</th>\n",
       "      <td>0.0</td>\n",
       "      <td>1.0</td>\n",
       "      <td>0.0</td>\n",
       "      <td>0.0</td>\n",
       "      <td>0.0</td>\n",
       "      <td>0.0</td>\n",
       "    </tr>\n",
       "    <tr>\n",
       "      <th>1275</th>\n",
       "      <td>1.0</td>\n",
       "      <td>0.0</td>\n",
       "      <td>0.0</td>\n",
       "      <td>0.0</td>\n",
       "      <td>0.0</td>\n",
       "      <td>0.0</td>\n",
       "    </tr>\n",
       "    <tr>\n",
       "      <th>575</th>\n",
       "      <td>1.0</td>\n",
       "      <td>0.0</td>\n",
       "      <td>0.0</td>\n",
       "      <td>0.0</td>\n",
       "      <td>0.0</td>\n",
       "      <td>0.0</td>\n",
       "    </tr>\n",
       "  </tbody>\n",
       "</table>\n",
       "</div>"
      ],
      "text/plain": [
       "        0    1    3    2    5    4\n",
       "1312  0.0  1.0  0.0  0.0  0.0  0.0\n",
       "1275  1.0  0.0  0.0  0.0  0.0  0.0\n",
       "575   1.0  0.0  0.0  0.0  0.0  0.0"
      ]
     },
     "execution_count": 42,
     "metadata": {},
     "output_type": "execute_result"
    }
   ],
   "source": [
    "from sklearn.preprocessing import OneHotEncoder\n",
    "#inisiasi encoder\n",
    "ohc = OneHotEncoder(handle_unknown=\"ignore\")\n",
    "\n",
    "#fit dan transform\n",
    "new_features = ohc.fit_transform(df1[[\"children\"]])\n",
    "\n",
    "#masukkan ke dataframe dan hasilnya\n",
    "cols_name = [x for x in df1[\"children\"].unique()]\n",
    "df_children_ohc = pd.DataFrame(new_features.toarray(), columns=cols_name)\n",
    "\n",
    "df_children_ohc.sample(3)\n"
   ]
  },
  {
   "cell_type": "code",
   "execution_count": 43,
   "metadata": {},
   "outputs": [
    {
     "data": {
      "text/html": [
       "<div>\n",
       "<style scoped>\n",
       "    .dataframe tbody tr th:only-of-type {\n",
       "        vertical-align: middle;\n",
       "    }\n",
       "\n",
       "    .dataframe tbody tr th {\n",
       "        vertical-align: top;\n",
       "    }\n",
       "\n",
       "    .dataframe thead th {\n",
       "        text-align: right;\n",
       "    }\n",
       "</style>\n",
       "<table border=\"1\" class=\"dataframe\">\n",
       "  <thead>\n",
       "    <tr style=\"text-align: right;\">\n",
       "      <th></th>\n",
       "      <th>yes</th>\n",
       "      <th>no</th>\n",
       "    </tr>\n",
       "  </thead>\n",
       "  <tbody>\n",
       "    <tr>\n",
       "      <th>386</th>\n",
       "      <td>1.0</td>\n",
       "      <td>0.0</td>\n",
       "    </tr>\n",
       "    <tr>\n",
       "      <th>919</th>\n",
       "      <td>1.0</td>\n",
       "      <td>0.0</td>\n",
       "    </tr>\n",
       "    <tr>\n",
       "      <th>1083</th>\n",
       "      <td>1.0</td>\n",
       "      <td>0.0</td>\n",
       "    </tr>\n",
       "  </tbody>\n",
       "</table>\n",
       "</div>"
      ],
      "text/plain": [
       "      yes   no\n",
       "386   1.0  0.0\n",
       "919   1.0  0.0\n",
       "1083  1.0  0.0"
      ]
     },
     "execution_count": 43,
     "metadata": {},
     "output_type": "execute_result"
    }
   ],
   "source": [
    "#fit dan transform\n",
    "new_features = ohc.fit_transform(df1[[\"smoker\"]])\n",
    "\n",
    "#masukkan ke dataframe dan hasilnya\n",
    "cols_name = [x for x in df1[\"smoker\"].unique()]\n",
    "df_smoker_ohc = pd.DataFrame(new_features.toarray(), columns=cols_name)\n",
    "\n",
    "df_smoker_ohc.sample(3)\n"
   ]
  },
  {
   "cell_type": "code",
   "execution_count": 44,
   "metadata": {},
   "outputs": [
    {
     "data": {
      "text/html": [
       "<div>\n",
       "<style scoped>\n",
       "    .dataframe tbody tr th:only-of-type {\n",
       "        vertical-align: middle;\n",
       "    }\n",
       "\n",
       "    .dataframe tbody tr th {\n",
       "        vertical-align: top;\n",
       "    }\n",
       "\n",
       "    .dataframe thead th {\n",
       "        text-align: right;\n",
       "    }\n",
       "</style>\n",
       "<table border=\"1\" class=\"dataframe\">\n",
       "  <thead>\n",
       "    <tr style=\"text-align: right;\">\n",
       "      <th></th>\n",
       "      <th>remaja akhir</th>\n",
       "      <th>dewasa awal</th>\n",
       "      <th>lansia awal</th>\n",
       "      <th>dewasa akhir</th>\n",
       "      <th>lansia akhir</th>\n",
       "    </tr>\n",
       "  </thead>\n",
       "  <tbody>\n",
       "    <tr>\n",
       "      <th>772</th>\n",
       "      <td>1.0</td>\n",
       "      <td>0.0</td>\n",
       "      <td>0.0</td>\n",
       "      <td>0.0</td>\n",
       "      <td>0.0</td>\n",
       "    </tr>\n",
       "    <tr>\n",
       "      <th>274</th>\n",
       "      <td>0.0</td>\n",
       "      <td>0.0</td>\n",
       "      <td>0.0</td>\n",
       "      <td>0.0</td>\n",
       "      <td>1.0</td>\n",
       "    </tr>\n",
       "    <tr>\n",
       "      <th>1296</th>\n",
       "      <td>0.0</td>\n",
       "      <td>0.0</td>\n",
       "      <td>0.0</td>\n",
       "      <td>0.0</td>\n",
       "      <td>1.0</td>\n",
       "    </tr>\n",
       "  </tbody>\n",
       "</table>\n",
       "</div>"
      ],
      "text/plain": [
       "      remaja akhir  dewasa awal  lansia awal  dewasa akhir  lansia akhir\n",
       "772            1.0          0.0          0.0           0.0           0.0\n",
       "274            0.0          0.0          0.0           0.0           1.0\n",
       "1296           0.0          0.0          0.0           0.0           1.0"
      ]
     },
     "execution_count": 44,
     "metadata": {},
     "output_type": "execute_result"
    }
   ],
   "source": [
    "#fit dan transform\n",
    "new_features = ohc.fit_transform(df1[[\"age_group\"]])\n",
    "\n",
    "#masukkan ke dataframe dan hasilnya\n",
    "cols_name = [x for x in df1[\"age_group\"].unique()]\n",
    "df_age_group_ohc = pd.DataFrame(new_features.toarray(), columns=cols_name)\n",
    "\n",
    "df_age_group_ohc.sample(3)\n"
   ]
  },
  {
   "cell_type": "code",
   "execution_count": 45,
   "metadata": {},
   "outputs": [
    {
     "data": {
      "text/html": [
       "<div>\n",
       "<style scoped>\n",
       "    .dataframe tbody tr th:only-of-type {\n",
       "        vertical-align: middle;\n",
       "    }\n",
       "\n",
       "    .dataframe tbody tr th {\n",
       "        vertical-align: top;\n",
       "    }\n",
       "\n",
       "    .dataframe thead th {\n",
       "        text-align: right;\n",
       "    }\n",
       "</style>\n",
       "<table border=\"1\" class=\"dataframe\">\n",
       "  <thead>\n",
       "    <tr style=\"text-align: right;\">\n",
       "      <th></th>\n",
       "      <th>berlebih</th>\n",
       "      <th>obesitas</th>\n",
       "      <th>normal</th>\n",
       "      <th>kurang</th>\n",
       "    </tr>\n",
       "  </thead>\n",
       "  <tbody>\n",
       "    <tr>\n",
       "      <th>421</th>\n",
       "      <td>0.0</td>\n",
       "      <td>0.0</td>\n",
       "      <td>0.0</td>\n",
       "      <td>1.0</td>\n",
       "    </tr>\n",
       "    <tr>\n",
       "      <th>4</th>\n",
       "      <td>1.0</td>\n",
       "      <td>0.0</td>\n",
       "      <td>0.0</td>\n",
       "      <td>0.0</td>\n",
       "    </tr>\n",
       "    <tr>\n",
       "      <th>217</th>\n",
       "      <td>1.0</td>\n",
       "      <td>0.0</td>\n",
       "      <td>0.0</td>\n",
       "      <td>0.0</td>\n",
       "    </tr>\n",
       "  </tbody>\n",
       "</table>\n",
       "</div>"
      ],
      "text/plain": [
       "     berlebih  obesitas  normal  kurang\n",
       "421       0.0       0.0     0.0     1.0\n",
       "4         1.0       0.0     0.0     0.0\n",
       "217       1.0       0.0     0.0     0.0"
      ]
     },
     "execution_count": 45,
     "metadata": {},
     "output_type": "execute_result"
    }
   ],
   "source": [
    "#fit dan transform\n",
    "new_features = ohc.fit_transform(df1[[\"bmi_group\"]])\n",
    "\n",
    "#masukkan ke dataframe dan hasilnya\n",
    "cols_name = [x for x in df1[\"bmi_group\"].unique()]\n",
    "df_bmi_group_ohc = pd.DataFrame(new_features.toarray(), columns=cols_name)\n",
    "\n",
    "df_bmi_group_ohc.sample(3)\n"
   ]
  },
  {
   "cell_type": "code",
   "execution_count": 46,
   "metadata": {},
   "outputs": [],
   "source": [
    "#gabung ke dataset utama\n",
    "df1 = pd.concat([df1, df_children_ohc, df_smoker_ohc, df_age_group_ohc, df_bmi_group_ohc], axis=1)\n"
   ]
  },
  {
   "cell_type": "code",
   "execution_count": 48,
   "metadata": {},
   "outputs": [
    {
     "data": {
      "text/html": [
       "<div>\n",
       "<style scoped>\n",
       "    .dataframe tbody tr th:only-of-type {\n",
       "        vertical-align: middle;\n",
       "    }\n",
       "\n",
       "    .dataframe tbody tr th {\n",
       "        vertical-align: top;\n",
       "    }\n",
       "\n",
       "    .dataframe thead th {\n",
       "        text-align: right;\n",
       "    }\n",
       "</style>\n",
       "<table border=\"1\" class=\"dataframe\">\n",
       "  <thead>\n",
       "    <tr style=\"text-align: right;\">\n",
       "      <th></th>\n",
       "      <th>age</th>\n",
       "      <th>sex</th>\n",
       "      <th>bmi</th>\n",
       "      <th>children</th>\n",
       "      <th>smoker</th>\n",
       "      <th>region</th>\n",
       "      <th>charges</th>\n",
       "      <th>age_group</th>\n",
       "      <th>bmi_group</th>\n",
       "      <th>bmi_iqr</th>\n",
       "      <th>...</th>\n",
       "      <th>no</th>\n",
       "      <th>remaja akhir</th>\n",
       "      <th>dewasa awal</th>\n",
       "      <th>lansia awal</th>\n",
       "      <th>dewasa akhir</th>\n",
       "      <th>lansia akhir</th>\n",
       "      <th>berlebih</th>\n",
       "      <th>obesitas</th>\n",
       "      <th>normal</th>\n",
       "      <th>kurang</th>\n",
       "    </tr>\n",
       "  </thead>\n",
       "  <tbody>\n",
       "    <tr>\n",
       "      <th>0</th>\n",
       "      <td>19</td>\n",
       "      <td>female</td>\n",
       "      <td>27.900</td>\n",
       "      <td>0</td>\n",
       "      <td>yes</td>\n",
       "      <td>southwest</td>\n",
       "      <td>16884.92400</td>\n",
       "      <td>remaja akhir</td>\n",
       "      <td>berlebih</td>\n",
       "      <td>27.900</td>\n",
       "      <td>...</td>\n",
       "      <td>1.0</td>\n",
       "      <td>0.0</td>\n",
       "      <td>0.0</td>\n",
       "      <td>0.0</td>\n",
       "      <td>0.0</td>\n",
       "      <td>1.0</td>\n",
       "      <td>1.0</td>\n",
       "      <td>0.0</td>\n",
       "      <td>0.0</td>\n",
       "      <td>0.0</td>\n",
       "    </tr>\n",
       "    <tr>\n",
       "      <th>1</th>\n",
       "      <td>18</td>\n",
       "      <td>male</td>\n",
       "      <td>33.770</td>\n",
       "      <td>1</td>\n",
       "      <td>no</td>\n",
       "      <td>southeast</td>\n",
       "      <td>1725.55230</td>\n",
       "      <td>remaja akhir</td>\n",
       "      <td>obesitas</td>\n",
       "      <td>33.770</td>\n",
       "      <td>...</td>\n",
       "      <td>0.0</td>\n",
       "      <td>0.0</td>\n",
       "      <td>0.0</td>\n",
       "      <td>0.0</td>\n",
       "      <td>0.0</td>\n",
       "      <td>1.0</td>\n",
       "      <td>0.0</td>\n",
       "      <td>0.0</td>\n",
       "      <td>0.0</td>\n",
       "      <td>1.0</td>\n",
       "    </tr>\n",
       "    <tr>\n",
       "      <th>2</th>\n",
       "      <td>28</td>\n",
       "      <td>male</td>\n",
       "      <td>33.000</td>\n",
       "      <td>3</td>\n",
       "      <td>no</td>\n",
       "      <td>southeast</td>\n",
       "      <td>4449.46200</td>\n",
       "      <td>dewasa awal</td>\n",
       "      <td>obesitas</td>\n",
       "      <td>33.000</td>\n",
       "      <td>...</td>\n",
       "      <td>0.0</td>\n",
       "      <td>0.0</td>\n",
       "      <td>1.0</td>\n",
       "      <td>0.0</td>\n",
       "      <td>0.0</td>\n",
       "      <td>0.0</td>\n",
       "      <td>0.0</td>\n",
       "      <td>0.0</td>\n",
       "      <td>0.0</td>\n",
       "      <td>1.0</td>\n",
       "    </tr>\n",
       "    <tr>\n",
       "      <th>3</th>\n",
       "      <td>33</td>\n",
       "      <td>male</td>\n",
       "      <td>22.705</td>\n",
       "      <td>0</td>\n",
       "      <td>no</td>\n",
       "      <td>northwest</td>\n",
       "      <td>21984.47061</td>\n",
       "      <td>dewasa awal</td>\n",
       "      <td>normal</td>\n",
       "      <td>22.705</td>\n",
       "      <td>...</td>\n",
       "      <td>0.0</td>\n",
       "      <td>0.0</td>\n",
       "      <td>1.0</td>\n",
       "      <td>0.0</td>\n",
       "      <td>0.0</td>\n",
       "      <td>0.0</td>\n",
       "      <td>0.0</td>\n",
       "      <td>0.0</td>\n",
       "      <td>1.0</td>\n",
       "      <td>0.0</td>\n",
       "    </tr>\n",
       "    <tr>\n",
       "      <th>4</th>\n",
       "      <td>32</td>\n",
       "      <td>male</td>\n",
       "      <td>28.880</td>\n",
       "      <td>0</td>\n",
       "      <td>no</td>\n",
       "      <td>northwest</td>\n",
       "      <td>3866.85520</td>\n",
       "      <td>dewasa awal</td>\n",
       "      <td>berlebih</td>\n",
       "      <td>28.880</td>\n",
       "      <td>...</td>\n",
       "      <td>0.0</td>\n",
       "      <td>0.0</td>\n",
       "      <td>1.0</td>\n",
       "      <td>0.0</td>\n",
       "      <td>0.0</td>\n",
       "      <td>0.0</td>\n",
       "      <td>1.0</td>\n",
       "      <td>0.0</td>\n",
       "      <td>0.0</td>\n",
       "      <td>0.0</td>\n",
       "    </tr>\n",
       "  </tbody>\n",
       "</table>\n",
       "<p>5 rows × 27 columns</p>\n",
       "</div>"
      ],
      "text/plain": [
       "   age     sex     bmi  children smoker     region      charges     age_group  \\\n",
       "0   19  female  27.900         0    yes  southwest  16884.92400  remaja akhir   \n",
       "1   18    male  33.770         1     no  southeast   1725.55230  remaja akhir   \n",
       "2   28    male  33.000         3     no  southeast   4449.46200   dewasa awal   \n",
       "3   33    male  22.705         0     no  northwest  21984.47061   dewasa awal   \n",
       "4   32    male  28.880         0     no  northwest   3866.85520   dewasa awal   \n",
       "\n",
       "  bmi_group  bmi_iqr  ...   no  remaja akhir  dewasa awal  lansia awal  \\\n",
       "0  berlebih   27.900  ...  1.0           0.0          0.0          0.0   \n",
       "1  obesitas   33.770  ...  0.0           0.0          0.0          0.0   \n",
       "2  obesitas   33.000  ...  0.0           0.0          1.0          0.0   \n",
       "3    normal   22.705  ...  0.0           0.0          1.0          0.0   \n",
       "4  berlebih   28.880  ...  0.0           0.0          1.0          0.0   \n",
       "\n",
       "   dewasa akhir  lansia akhir  berlebih  obesitas  normal  kurang  \n",
       "0           0.0           1.0       1.0       0.0     0.0     0.0  \n",
       "1           0.0           1.0       0.0       0.0     0.0     1.0  \n",
       "2           0.0           0.0       0.0       0.0     0.0     1.0  \n",
       "3           0.0           0.0       0.0       0.0     1.0     0.0  \n",
       "4           0.0           0.0       1.0       0.0     0.0     0.0  \n",
       "\n",
       "[5 rows x 27 columns]"
      ]
     },
     "execution_count": 48,
     "metadata": {},
     "output_type": "execute_result"
    }
   ],
   "source": [
    "df1.head(5)"
   ]
  },
  {
   "cell_type": "markdown",
   "metadata": {},
   "source": [
    "## kesimpulan\n",
    "- sampai tahap ini, proses data preparation sudah selesai, dan siap di lakukan proses pemilihan model *Machine Learning*\n",
    "- setelah dilakukan pemodelan, nantinya tidak menutup kemungkinan akan dilakukan proses data preparation ulang, untuk mereview dan meng optimasi hasil model yang mungkin dirasa kurang, sebelum masuk ke dalam proses production"
   ]
  }
 ],
 "metadata": {
  "interpreter": {
   "hash": "44a490ec308c372a083bb4bd88a3074b9999b83b8fb4d8844051c76ebc458543"
  },
  "kernelspec": {
   "display_name": "Python 3.9.1 64-bit ('base': conda)",
   "name": "python3"
  },
  "language_info": {
   "codemirror_mode": {
    "name": "ipython",
    "version": 3
   },
   "file_extension": ".py",
   "mimetype": "text/x-python",
   "name": "python",
   "nbconvert_exporter": "python",
   "pygments_lexer": "ipython3",
   "version": "3.9.1"
  },
  "orig_nbformat": 4
 },
 "nbformat": 4,
 "nbformat_minor": 2
}
